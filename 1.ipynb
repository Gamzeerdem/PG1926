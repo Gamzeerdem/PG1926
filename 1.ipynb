{
  "nbformat": 4,
  "nbformat_minor": 0,
  "metadata": {
    "colab": {
      "name": "1.ipynb",
      "provenance": [],
      "authorship_tag": "ABX9TyM1NBfHz1JP/dfWVoDIOTMe",
      "include_colab_link": true
    },
    "kernelspec": {
      "name": "python3",
      "display_name": "Python 3"
    }
  },
  "cells": [
    {
      "cell_type": "markdown",
      "metadata": {
        "id": "view-in-github",
        "colab_type": "text"
      },
      "source": [
        "<a href=\"https://colab.research.google.com/github/Gamzeerdem/PG1926/blob/main/1.ipynb\" target=\"_parent\"><img src=\"https://colab.research.google.com/assets/colab-badge.svg\" alt=\"Open In Colab\"/></a>"
      ]
    },
    {
      "cell_type": "code",
      "metadata": {
        "id": "Ixzk-YDt2nk8"
      },
      "source": [
        "\r\n",
        "\r\n",
        "\r\n",
        "\r\n",
        "for a in range(1,100):\r\n",
        "    if a % 3 == 0 and a % 5 == 0:\r\n",
        "        print(\"fizzbuzz\")\r\n",
        "        continue\r\n",
        "    elif a % 3 == 0:\r\n",
        "        print(\"fizz\")\r\n",
        "        continue\r\n",
        "    elif a % 5 == 0:\r\n",
        "        print(\"buzz\")\r\n",
        "        continue\r\n",
        "    print(a)\r\n"
      ],
      "execution_count": null,
      "outputs": []
    }
  ]
}